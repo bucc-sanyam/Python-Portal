{
 "cells": [
  {
   "cell_type": "markdown",
   "id": "ea145f44-6666-4997-b4fa-c30cc2ee35f9",
   "metadata": {},
   "source": [
    "### Extracting Elements from Array\n",
    "Description\n",
    "From a given array, extract all the elements which are greater than 'm' and less than 'n'. Note: 'm' and 'n' are integer values provided as input.\n",
    "\n",
    "__Input Format:__ <br>\n",
    "\n",
    "A list of integers on line one\n",
    "Integer 'm' on line two\n",
    "Integer 'n' on line three\n",
    "\n",
    "__Sample input:__ <br>\n",
    "1-D array containing integers greater than 'm' and smaller than 'n'.\n",
    "\n",
    "__Sample input:__ <br>\n",
    "[ 1, 5, 9, 12, 15, 7, 12, 9 ] (array) <br>\n",
    "6 (m) <br>\n",
    "12 (n)\n",
    "\n",
    "__Sample input:__ <br>\n",
    "[ 9 7 9 ]\n",
    "\n",
    "\n",
    "__Sample input:__ <br>\n",
    "[ 1, 5, 9, 12, 15, 7, 12, 9 ] <br>\n",
    "12 <br>\n",
    "6\n",
    "\n",
    "__Sample output:__ <br>\n",
    "[ ]\n",
    "\n"
   ]
  },
  {
   "cell_type": "code",
   "execution_count": 6,
   "id": "40f1666a-8eba-4da1-b91d-cdd326067491",
   "metadata": {},
   "outputs": [
    {
     "name": "stdin",
     "output_type": "stream",
     "text": [
      " [1,2,3,4,5,6]\n",
      " 1\n",
      " 5\n"
     ]
    },
    {
     "name": "stdout",
     "output_type": "stream",
     "text": [
      "[2 3 4]\n"
     ]
    }
   ],
   "source": [
    "import ast \n",
    "input_list=ast.literal_eval(input())\n",
    "m=int(input())\n",
    "n=int(input())\n",
    "\n",
    "import numpy as np\n",
    "array_1 = np.array(input_list)#start writing your code from here\n",
    "final_array = array_1[(array_1<n) & (array_1>m)]#start writing your code from here\n",
    "\n",
    "print(final_array)"
   ]
  },
  {
   "cell_type": "code",
   "execution_count": null,
   "id": "90929601-6587-4e6c-9854-2fa6bfde2138",
   "metadata": {},
   "outputs": [],
   "source": []
  }
 ],
 "metadata": {
  "kernelspec": {
   "display_name": "Python 3 (ipykernel)",
   "language": "python",
   "name": "python3"
  },
  "language_info": {
   "codemirror_mode": {
    "name": "ipython",
    "version": 3
   },
   "file_extension": ".py",
   "mimetype": "text/x-python",
   "name": "python",
   "nbconvert_exporter": "python",
   "pygments_lexer": "ipython3",
   "version": "3.9.16"
  }
 },
 "nbformat": 4,
 "nbformat_minor": 5
}
