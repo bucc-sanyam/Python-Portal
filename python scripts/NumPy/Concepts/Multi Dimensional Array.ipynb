{
 "cells": [
  {
   "cell_type": "markdown",
   "id": "aaf4c3c0-ff9b-458a-8a70-9509e3d58771",
   "metadata": {},
   "source": [
    "A multidimensional array is an array of arrays. For example, a two-dimensional array would be an array with each element as a one-dimensional array. <br>\n",
    "<br>\n",
    "1-D array : [1, 2, 3, 4, 5]  <br>\n",
    "2-D array : [ [1, 2, 3, 4, 5], [6, 7, 8, 9, 10] ] <br>\n",
    "<br>\n",
    "Similarly, a three-dimensional array can be thought of as an array with each element as a two-dimensional array. <br>\n",
    "To create multidimensional arrays, you can give a multidimensional list as an input to the np.array function. "
   ]
  }
 ],
 "metadata": {
  "kernelspec": {
   "display_name": "Python 3 (ipykernel)",
   "language": "python",
   "name": "python3"
  },
  "language_info": {
   "codemirror_mode": {
    "name": "ipython",
    "version": 3
   },
   "file_extension": ".py",
   "mimetype": "text/x-python",
   "name": "python",
   "nbconvert_exporter": "python",
   "pygments_lexer": "ipython3",
   "version": "3.9.16"
  }
 },
 "nbformat": 4,
 "nbformat_minor": 5
}
