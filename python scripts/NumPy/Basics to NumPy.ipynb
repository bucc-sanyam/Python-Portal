{
 "cells": [
  {
   "cell_type": "markdown",
   "id": "cf80b4c2",
   "metadata": {},
   "source": [
    "# Why NumPy is for working with data\n",
    "\n",
    "NumPy, an acronym for the term ‘Numerical Python’, is a library in Python which is used extensively for efficient mathematical computing. This library allows users to store large amounts of data using less memory and perform extensive operations efficiently. It provides optimised and simpler functionalities to perform aforementioned operations using homogenous, one-dimensional and multidimensional arrays.\n",
    "\n",
    "Now, before delving deep into the concept of NumPy arrays, it is important to note that Python lists can very well perform all the actions that NumPy arrays perform; it is simply the fact that NumPy arrays are faster and more convenient than lists when it comes to extensive computations, which make them extremely useful, especially when you are working with large amounts of data."
   ]
  },
  {
   "cell_type": "markdown",
   "id": "a60a5337",
   "metadata": {},
   "source": [
    "The basic data structure of NumPy is an array. A NumPy array is a collection of values stored together, similar to a list. \n",
    "\n",
    "Advantages of using NumPy arrays over normal lists are :\n",
    "\n",
    "1. Ability to operate on individual elements in the array without using loops or list comprehension\n",
    "2. Speed of execution "
   ]
  },
  {
   "cell_type": "markdown",
   "id": "fcaaafb3",
   "metadata": {},
   "source": [
    "## Numpy vs Lists "
   ]
  },
  {
   "cell_type": "code",
   "execution_count": 13,
   "id": "7a1c9a8a",
   "metadata": {},
   "outputs": [],
   "source": [
    "#Let's define a list in python.\n",
    "heights = [74, 75, 72, 72, 71]"
   ]
  },
  {
   "cell_type": "code",
   "execution_count": 14,
   "id": "a07176c5",
   "metadata": {},
   "outputs": [
    {
     "data": {
      "text/plain": [
       "[74, 75, 72, 72, 71]"
      ]
     },
     "execution_count": 14,
     "metadata": {},
     "output_type": "execute_result"
    }
   ],
   "source": [
    "# Print the heights.\n",
    "heights"
   ]
  },
  {
   "cell_type": "code",
   "execution_count": 15,
   "id": "5a5279d2",
   "metadata": {},
   "outputs": [
    {
     "ename": "TypeError",
     "evalue": "can't multiply sequence by non-int of type 'float'",
     "output_type": "error",
     "traceback": [
      "\u001b[0;31m---------------------------------------------------------------------------\u001b[0m",
      "\u001b[0;31mTypeError\u001b[0m                                 Traceback (most recent call last)",
      "Cell \u001b[0;32mIn[15], line 2\u001b[0m\n\u001b[1;32m      1\u001b[0m \u001b[38;5;66;03m# Try to multiple heights with a scalar.\u001b[39;00m\n\u001b[0;32m----> 2\u001b[0m \u001b[43mheights\u001b[49m\u001b[43m \u001b[49m\u001b[38;5;241;43m*\u001b[39;49m\u001b[43m \u001b[49m\u001b[38;5;241;43m2.54\u001b[39;49m\n",
      "\u001b[0;31mTypeError\u001b[0m: can't multiply sequence by non-int of type 'float'"
     ]
    }
   ],
   "source": [
    "# Try to multiple heights with a scalar.\n",
    "heights * 2.54"
   ]
  },
  {
   "cell_type": "code",
   "execution_count": 16,
   "id": "85e7ffe6",
   "metadata": {},
   "outputs": [],
   "source": [
    "import numpy as np"
   ]
  },
  {
   "cell_type": "code",
   "execution_count": 17,
   "id": "739a56c0",
   "metadata": {},
   "outputs": [],
   "source": [
    "# Define a NumPy array\n",
    "np_heights = np.array([74, 75, 72, 72, 71])"
   ]
  },
  {
   "cell_type": "code",
   "execution_count": 5,
   "id": "7bb7f3cf",
   "metadata": {},
   "outputs": [
    {
     "data": {
      "text/plain": [
       "array([74, 75, 72, 72, 71])"
      ]
     },
     "execution_count": 5,
     "metadata": {},
     "output_type": "execute_result"
    }
   ],
   "source": [
    "np_heights"
   ]
  },
  {
   "cell_type": "code",
   "execution_count": 6,
   "id": "44ea9de7",
   "metadata": {},
   "outputs": [
    {
     "data": {
      "text/plain": [
       "numpy.ndarray"
      ]
     },
     "execution_count": 6,
     "metadata": {},
     "output_type": "execute_result"
    }
   ],
   "source": [
    "# Print the type of a NumPy array.\n",
    "type(np_heights)"
   ]
  },
  {
   "cell_type": "code",
   "execution_count": 9,
   "id": "dd617a5b",
   "metadata": {},
   "outputs": [
    {
     "data": {
      "text/plain": [
       "array([187.96, 190.5 , 182.88, 182.88, 180.34])"
      ]
     },
     "execution_count": 9,
     "metadata": {},
     "output_type": "execute_result"
    }
   ],
   "source": [
    "# Multiple height (NumPy array) with a scalar.\n",
    "np_heights * 2.54"
   ]
  },
  {
   "cell_type": "markdown",
   "id": "6cba9ff7",
   "metadata": {},
   "source": [
    "\n",
    "#### NumPy comes with its own set of methods and operations"
   ]
  },
  {
   "cell_type": "code",
   "execution_count": 10,
   "id": "a4bac76e",
   "metadata": {},
   "outputs": [
    {
     "data": {
      "text/plain": [
       "[1, 2, 3, 4, 5, 6]"
      ]
     },
     "execution_count": 10,
     "metadata": {},
     "output_type": "execute_result"
    }
   ],
   "source": [
    "# Let's define two lists and perform '+' operation on that.\n",
    "list_1 = [1,2,3]\n",
    "list_2 = [4,5,6]\n",
    "list_1 + list_2"
   ]
  },
  {
   "cell_type": "code",
   "execution_count": 11,
   "id": "452e3a20",
   "metadata": {},
   "outputs": [
    {
     "data": {
      "text/plain": [
       "array([5, 7, 9])"
      ]
     },
     "execution_count": 11,
     "metadata": {},
     "output_type": "execute_result"
    }
   ],
   "source": [
    "# Let's define two NumPy array and perform '+' operation on that.\n",
    "np1 = np.array([1,2,3])\n",
    "np2 = np.array([4,5,6])\n",
    "np1 + np2"
   ]
  },
  {
   "cell_type": "markdown",
   "id": "629eec26",
   "metadata": {},
   "source": [
    "#### NumPy Array VS List\n",
    "\n",
    "The only difference between a NumPy array and a list is that the elements in the NumPy array are separated by a space instead of a comma. Hence, this is an aesthetic feature that differentiates a list and a NumPy array.\n",
    "\n",
    "NumPy Arrays are homogeneous in nature. By homogenous, we mean that all the elements in a NumPy array have to be of the same data type, which could be an integer, float, string, etc. "
   ]
  },
  {
   "cell_type": "code",
   "execution_count": 7,
   "id": "571d678f",
   "metadata": {},
   "outputs": [
    {
     "name": "stdout",
     "output_type": "stream",
     "text": [
      "[74 75 72 72 71]\n"
     ]
    }
   ],
   "source": [
    "print(np_heights)"
   ]
  },
  {
   "cell_type": "code",
   "execution_count": 11,
   "id": "8d08485a",
   "metadata": {},
   "outputs": [
    {
     "data": {
      "text/plain": [
       "numpy.ndarray"
      ]
     },
     "execution_count": 11,
     "metadata": {},
     "output_type": "execute_result"
    }
   ],
   "source": [
    "a = np.array([1.0, 2, 3.5, 0.2, True])\n"
   ]
  },
  {
   "cell_type": "code",
   "execution_count": null,
   "id": "cfc96314",
   "metadata": {},
   "outputs": [],
   "source": []
  }
 ],
 "metadata": {
  "kernelspec": {
   "display_name": "Python 3 (ipykernel)",
   "language": "python",
   "name": "python3"
  },
  "language_info": {
   "codemirror_mode": {
    "name": "ipython",
    "version": 3
   },
   "file_extension": ".py",
   "mimetype": "text/x-python",
   "name": "python",
   "nbconvert_exporter": "python",
   "pygments_lexer": "ipython3",
   "version": "3.9.16"
  }
 },
 "nbformat": 4,
 "nbformat_minor": 5
}
