{
 "cells": [
  {
   "cell_type": "markdown",
   "id": "e05ec124",
   "metadata": {
    "jp-MarkdownHeadingCollapsed": true
   },
   "source": [
    "# Important Links\n",
    "\n",
    "## Beginner Level Concepts\n",
    "\n",
    "- Think Python: http://greenteapress.com/wp/think-python-2e/\n",
    "- The hitchhiker's guide to Python: https://docs.python-guide.org/intro/learning/\n",
    "- A byte of Python: https://python.swaroopch.com/\n",
    "- Jupyter Notebook mac shortcuts: https://gist.github.com/kidpixo/f4318f8c8143adee5b40\n",
    "- Jupyter magic commands: https://ipython.readthedocs.io/en/stable/interactive/magics.html\n",
    "\n",
    "## Advanced Concepts\n",
    "\n",
    "- Problem-solving with algorithms: https://runestone.academy/ns/books/published/pythonds/index.html"
   ]
  }
 ],
 "metadata": {
  "kernelspec": {
   "display_name": "Python 3 (ipykernel)",
   "language": "python",
   "name": "python3"
  },
  "language_info": {
   "codemirror_mode": {
    "name": "ipython",
    "version": 3
   },
   "file_extension": ".py",
   "mimetype": "text/x-python",
   "name": "python",
   "nbconvert_exporter": "python",
   "pygments_lexer": "ipython3",
   "version": "3.9.16"
  }
 },
 "nbformat": 4,
 "nbformat_minor": 5
}
