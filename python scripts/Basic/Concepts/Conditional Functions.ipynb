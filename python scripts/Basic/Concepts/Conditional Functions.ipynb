{
 "cells": [
  {
   "cell_type": "markdown",
   "id": "2e9a0b9b-9671-4b46-a32b-814e25d895bc",
   "metadata": {},
   "source": [
    "### Single line if else\n",
    "if else can be written in a single line for simple conditions: "
   ]
  },
  {
   "cell_type": "code",
   "execution_count": 1,
   "id": "29ab1a18-3876-4669-9562-cc5a25e9b15d",
   "metadata": {},
   "outputs": [
    {
     "data": {
      "text/plain": [
       "False"
      ]
     },
     "execution_count": 1,
     "metadata": {},
     "output_type": "execute_result"
    }
   ],
   "source": [
    "True if (19 > 49)  else False"
   ]
  }
 ],
 "metadata": {
  "kernelspec": {
   "display_name": "Python 3 (ipykernel)",
   "language": "python",
   "name": "python3"
  },
  "language_info": {
   "codemirror_mode": {
    "name": "ipython",
    "version": 3
   },
   "file_extension": ".py",
   "mimetype": "text/x-python",
   "name": "python",
   "nbconvert_exporter": "python",
   "pygments_lexer": "ipython3",
   "version": "3.9.16"
  }
 },
 "nbformat": 4,
 "nbformat_minor": 5
}
